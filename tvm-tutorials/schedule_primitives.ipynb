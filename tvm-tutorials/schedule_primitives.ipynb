{
 "cells": [
  {
   "cell_type": "code",
   "execution_count": 1,
   "metadata": {},
   "outputs": [],
   "source": [
    "import tvm \n",
    "import numpy as np"
   ]
  },
  {
   "cell_type": "markdown",
   "metadata": {},
   "source": [
    "- There often exist several methods to compute the same result, however, different methods will result in different locality and performance. So TVM asks user to provide how to execute the computation called Schedule.\n",
    "\n",
    "- A Schedule is a set of transformation of computation that transforms the loop of computations in the program."
   ]
  },
  {
   "cell_type": "code",
   "execution_count": 2,
   "metadata": {},
   "outputs": [],
   "source": [
    "# declare some variables for use later\n",
    "n = tvm.var(\"n\")\n",
    "m = tvm.var(\"m\")"
   ]
  },
  {
   "cell_type": "markdown",
   "metadata": {},
   "source": [
    "- A schedule can be created from a list of ops, by default the schedule computes tensor in a serial manner in a row-major order. "
   ]
  },
  {
   "cell_type": "code",
   "execution_count": 3,
   "metadata": {},
   "outputs": [],
   "source": [
    "# declare a matrix element-wise multiply \n",
    "A = tvm.placeholder(shape=(m, n), name=\"A\")\n",
    "B = tvm.placeholder(shape=(m, n), name=\"B\")\n",
    "C = tvm.compute(shape=(m, n), \n",
    "                fcompute=lambda i, j: A[i, j] * B[i, j], name=\"C\")"
   ]
  },
  {
   "cell_type": "code",
   "execution_count": 4,
   "metadata": {},
   "outputs": [],
   "source": [
    "s = tvm.create_schedule(ops=[C.op])"
   ]
  },
  {
   "cell_type": "markdown",
   "metadata": {},
   "source": [
    "lower will transform the computation from definition to the real callable function. With argument `simple_mode=True`, it will return you a readable C like statement"
   ]
  },
  {
   "cell_type": "code",
   "execution_count": 5,
   "metadata": {},
   "outputs": [
    {
     "name": "stdout",
     "output_type": "stream",
     "text": [
      "produce C {\n",
      "  for (i, 0, m) {\n",
      "    for (j, 0, n) {\n",
      "      C[((i*n) + j)] = (A[((i*n) + j)]*B[((i*n) + j)])\n",
      "    }\n",
      "  }\n",
      "}\n",
      "\n"
     ]
    }
   ],
   "source": [
    "print(tvm.lower(sch=s, args=[A, B, C], simple_mode=True))"
   ]
  },
  {
   "cell_type": "markdown",
   "metadata": {},
   "source": [
    "- One schedule is composed by multiple stages, and one stage represents schedule for one operation. TVM provides various methods to schedule every stage. "
   ]
  },
  {
   "cell_type": "markdown",
   "metadata": {},
   "source": [
    "## Split"
   ]
  },
  {
   "cell_type": "markdown",
   "metadata": {},
   "source": [
    "`split` can split a specified axis into two axises by `factor`. "
   ]
  },
  {
   "cell_type": "code",
   "execution_count": 6,
   "metadata": {},
   "outputs": [],
   "source": [
    "A = tvm.placeholder(shape=(m, ), name=\"A\")\n",
    "B = tvm.compute(shape=(m, ),\n",
    "                fcompute=lambda i: A[i] * 2,\n",
    "                name=\"B\")"
   ]
  },
  {
   "cell_type": "code",
   "execution_count": 7,
   "metadata": {},
   "outputs": [],
   "source": [
    "s = tvm.create_schedule(B.op)"
   ]
  },
  {
   "cell_type": "code",
   "execution_count": 8,
   "metadata": {},
   "outputs": [],
   "source": [
    "xo, xi = s[B].split(B.op.axis[0], factor=32)"
   ]
  },
  {
   "cell_type": "code",
   "execution_count": 9,
   "metadata": {},
   "outputs": [
    {
     "name": "stdout",
     "output_type": "stream",
     "text": [
      "produce B {\n",
      "  for (i.outer, 0, ((m + 31)/32)) {\n",
      "    for (i.inner, 0, 32) {\n",
      "      if (likely(((i.outer*32) < (m - i.inner)))) {\n",
      "        B[((i.outer*32) + i.inner)] = (A[((i.outer*32) + i.inner)]*2.000000f)\n",
      "      }\n",
      "    }\n",
      "  }\n",
      "}\n",
      "\n"
     ]
    }
   ],
   "source": [
    "print(tvm.lower(sch=s, args=[A, B], simple_mode=True))"
   ]
  },
  {
   "cell_type": "markdown",
   "metadata": {},
   "source": [
    "You can also split a axis by nparts, which splits the axis contrary with factor"
   ]
  },
  {
   "cell_type": "code",
   "execution_count": 10,
   "metadata": {},
   "outputs": [
    {
     "name": "stdout",
     "output_type": "stream",
     "text": [
      "produce B {\n",
      "  for (i.outer, 0, 32) {\n",
      "    for (i.inner, 0, ((m + 31)/32)) {\n",
      "      if (likely(((i.outer*((m + 31)/32)) < (m - i.inner)))) {\n",
      "        if (likely(((0 - i.inner) <= (i.outer*((m + 31)/32))))) {\n",
      "          B[((i.outer*((m + 31)/32)) + i.inner)] = (A[((i.outer*((m + 31)/32)) + i.inner)]*2.000000f)\n",
      "        }\n",
      "      }\n",
      "    }\n",
      "  }\n",
      "}\n",
      "\n"
     ]
    }
   ],
   "source": [
    "A = tvm.placeholder(shape=(m, ), name=\"A\")\n",
    "B = tvm.compute(shape=(m, ),\n",
    "                fcompute=lambda i: A[i] * 2,\n",
    "                name=\"B\")\n",
    "s = tvm.create_schedule(ops=B.op)\n",
    "bx, tx = s[B].split(B.op.axis[0], nparts=32)\n",
    "print(tvm.lower(sch=s, args=[A, B], simple_mode=True))"
   ]
  },
  {
   "cell_type": "markdown",
   "metadata": {},
   "source": [
    "## tile \n",
    "\n",
    "`tile` helps execute the computation tile by tile over two axises. \n"
   ]
  },
  {
   "cell_type": "code",
   "execution_count": 12,
   "metadata": {},
   "outputs": [
    {
     "name": "stdout",
     "output_type": "stream",
     "text": [
      "produce B {\n",
      "  for (i.outer, 0, ((m + 9)/10)) {\n",
      "    for (j.outer, 0, ((n + 4)/5)) {\n",
      "      for (i.inner, 0, 10) {\n",
      "        for (j.inner, 0, 5) {\n",
      "          if (likely(((i.outer*10) < (m - i.inner)))) {\n",
      "            if (likely(((j.outer*5) < (n - j.inner)))) {\n",
      "              B[(((j.outer*5) + (((i.outer*10) + i.inner)*n)) + j.inner)] = A[(((j.outer*5) + (((i.outer*10) + i.inner)*n)) + j.inner)]\n",
      "            }\n",
      "          }\n",
      "        }\n",
      "      }\n",
      "    }\n",
      "  }\n",
      "}\n",
      "\n"
     ]
    }
   ],
   "source": [
    "A = tvm.placeholder(shape=(m, n), name=\"A\")\n",
    "B = tvm.compute(shape=(m, n), \n",
    "                fcompute=lambda i, j: A[i, j], name=\"B\")\n",
    "s = tvm.create_schedule(B.op)\n",
    "xo, yo, xi, yi = s[B].tile(B.op.axis[0], B.op.axis[1], x_factor=10, y_factor=5)\n",
    "print(tvm.lower(sch=s, args=[A, B], simple_mode=True))"
   ]
  },
  {
   "cell_type": "markdown",
   "metadata": {},
   "source": [
    "## fuse\n",
    "\n",
    "`fuse` can fuse two consecutive axises of one computation. "
   ]
  },
  {
   "cell_type": "code",
   "execution_count": 13,
   "metadata": {},
   "outputs": [],
   "source": [
    "A = tvm.placeholder((m, n), name='A')\n",
    "B = tvm.compute((m, n), lambda i, j: A[i, j], name='B')\n",
    "\n",
    "s = tvm.create_schedule(B.op)\n",
    "# tile to four axises first: (i.outer, j.outer, i.inner, j.inner)\n",
    "xo, yo, xi, yi = s[B].tile(B.op.axis[0], B.op.axis[1], x_factor=10, y_factor=5)"
   ]
  },
  {
   "cell_type": "code",
   "execution_count": 14,
   "metadata": {},
   "outputs": [
    {
     "name": "stdout",
     "output_type": "stream",
     "text": [
      "produce B {\n",
      "  for (i.outer, 0, ((m + 9)/10)) {\n",
      "    for (j.outer, 0, ((n + 4)/5)) {\n",
      "      for (i.inner.j.inner.fused, 0, 50) {\n",
      "        if (likely(((i.outer*10) < (m - (i.inner.j.inner.fused/5))))) {\n",
      "          if (likely(((j.outer*5) < (n - (i.inner.j.inner.fused % 5))))) {\n",
      "            B[(((j.outer*5) + (i.inner.j.inner.fused % 5)) + (((i.outer*10) + (i.inner.j.inner.fused/5))*n))] = A[(((j.outer*5) + (i.inner.j.inner.fused % 5)) + (((i.outer*10) + (i.inner.j.inner.fused/5))*n))]\n",
      "          }\n",
      "        }\n",
      "      }\n",
      "    }\n",
      "  }\n",
      "}\n",
      "\n"
     ]
    }
   ],
   "source": [
    "# then fuse (i.inner, j.inner) into one axis: (i.inner.j.inner.fused)\n",
    "fused = s[B].fuse(xi, yi)\n",
    "print(tvm.lower(s, [A, B], simple_mode=True))"
   ]
  },
  {
   "cell_type": "markdown",
   "metadata": {},
   "source": [
    "## reorder \n",
    "\n",
    "`reorder` can reorder the axises in the specified order."
   ]
  },
  {
   "cell_type": "code",
   "execution_count": 16,
   "metadata": {},
   "outputs": [
    {
     "name": "stdout",
     "output_type": "stream",
     "text": [
      "produce B {\n",
      "  for (i.inner, 0, 10) {\n",
      "    for (j.outer, 0, ((n + 4)/5)) {\n",
      "      for (i.outer, 0, ((m + 9)/10)) {\n",
      "        for (j.inner, 0, 5) {\n",
      "          if (likely((i.inner < (m - (i.outer*10))))) {\n",
      "            if (likely(((j.outer*5) < (n - j.inner)))) {\n",
      "              B[(((j.outer*5) + ((i.inner + (i.outer*10))*n)) + j.inner)] = A[(((j.outer*5) + ((i.inner + (i.outer*10))*n)) + j.inner)]\n",
      "            }\n",
      "          }\n",
      "        }\n",
      "      }\n",
      "    }\n",
      "  }\n",
      "}\n",
      "\n"
     ]
    }
   ],
   "source": [
    "A = tvm.placeholder((m, n), name='A')\n",
    "B = tvm.compute((m, n), lambda i, j: A[i, j], name='B')\n",
    "\n",
    "s = tvm.create_schedule(B.op)\n",
    "# tile to four axises first: (i.outer, j.outer, i.inner, j.inner)\n",
    "xo, yo, xi, yi = s[B].tile(B.op.axis[0], B.op.axis[1], x_factor=10, y_factor=5)\n",
    "# then reorder the axises: (i.inner, j.outer, i.outer, j.inner)\n",
    "s[B].reorder(xi, yo, xo, yi)\n",
    "print(tvm.lower(s, [A, B], simple_mode=True))"
   ]
  },
  {
   "cell_type": "markdown",
   "metadata": {},
   "source": [
    "## bind\n",
    "`bind` can bind a specified axis with a thread axis, often used in gpu programming."
   ]
  },
  {
   "cell_type": "code",
   "execution_count": 17,
   "metadata": {},
   "outputs": [
    {
     "name": "stdout",
     "output_type": "stream",
     "text": [
      "produce B {\n",
      "  // attr [iter_var(blockIdx.x, , blockIdx.x)] thread_extent = ((n + 63)/64)\n",
      "  // attr [iter_var(threadIdx.x, , threadIdx.x)] thread_extent = 64\n",
      "  if (likely(((blockIdx.x*64) < (n - threadIdx.x)))) {\n",
      "    B[((blockIdx.x*64) + threadIdx.x)] = (A[((blockIdx.x*64) + threadIdx.x)]*2.000000f)\n",
      "  }\n",
      "}\n",
      "\n"
     ]
    }
   ],
   "source": [
    "A = tvm.placeholder((n,), name='A')\n",
    "B = tvm.compute(A.shape, lambda i: A[i] * 2, name='B')\n",
    "\n",
    "s = tvm.create_schedule(B.op)\n",
    "bx, tx = s[B].split(B.op.axis[0], factor=64)\n",
    "s[B].bind(bx, tvm.thread_axis(\"blockIdx.x\"))\n",
    "s[B].bind(tx, tvm.thread_axis(\"threadIdx.x\"))\n",
    "print(tvm.lower(s, [A, B], simple_mode=True))\n"
   ]
  },
  {
   "cell_type": "markdown",
   "metadata": {},
   "source": [
    "## compute_at\n",
    "\n",
    "For a schedule consists of multiple operators, tvm will compute tensors at the root separately by default."
   ]
  },
  {
   "cell_type": "code",
   "execution_count": 18,
   "metadata": {},
   "outputs": [
    {
     "name": "stdout",
     "output_type": "stream",
     "text": [
      "produce B {\n",
      "  for (i, 0, m) {\n",
      "    B[i] = (A[i] + 1.000000f)\n",
      "  }\n",
      "}\n",
      "produce C {\n",
      "  for (i, 0, m) {\n",
      "    C[i] = (B[i]*2.000000f)\n",
      "  }\n",
      "}\n",
      "\n"
     ]
    }
   ],
   "source": [
    "A = tvm.placeholder((m,), name='A')\n",
    "B = tvm.compute((m,), lambda i: A[i]+1, name='B')\n",
    "C = tvm.compute((m,), lambda i: B[i]*2, name='C')\n",
    "\n",
    "s = tvm.create_schedule(C.op)\n",
    "print(tvm.lower(s, [A, B, C], simple_mode=True))\n"
   ]
  },
  {
   "cell_type": "markdown",
   "metadata": {},
   "source": [
    "compute_at can move computation of B into the first axis of computation of C."
   ]
  },
  {
   "cell_type": "code",
   "execution_count": 19,
   "metadata": {},
   "outputs": [
    {
     "name": "stdout",
     "output_type": "stream",
     "text": [
      "produce C {\n",
      "  for (i, 0, m) {\n",
      "    produce B {\n",
      "      B[i] = (A[i] + 1.000000f)\n",
      "    }\n",
      "    C[i] = (B[i]*2.000000f)\n",
      "  }\n",
      "}\n",
      "\n"
     ]
    }
   ],
   "source": [
    "A = tvm.placeholder((m,), name='A')\n",
    "B = tvm.compute((m,), lambda i: A[i]+1, name='B')\n",
    "C = tvm.compute((m,), lambda i: B[i]*2, name='C')\n",
    "\n",
    "s = tvm.create_schedule(C.op)\n",
    "s[B].compute_at(s[C], C.op.axis[0])\n",
    "print(tvm.lower(s, [A, B, C], simple_mode=True))\n"
   ]
  },
  {
   "cell_type": "markdown",
   "metadata": {},
   "source": [
    "## compute_inline\n",
    "\n",
    "`compute_inline` can mark one stage as inline, then the body of computation will be expanded and inserted at the address where the tensor is required."
   ]
  },
  {
   "cell_type": "code",
   "execution_count": 20,
   "metadata": {},
   "outputs": [
    {
     "name": "stdout",
     "output_type": "stream",
     "text": [
      "produce C {\n",
      "  for (i, 0, m) {\n",
      "    C[i] = ((A[i]*2.000000f) + 2.000000f)\n",
      "  }\n",
      "}\n",
      "\n"
     ]
    }
   ],
   "source": [
    "A = tvm.placeholder((m,), name='A')\n",
    "B = tvm.compute((m,), lambda i: A[i]+1, name='B')\n",
    "C = tvm.compute((m,), lambda i: B[i]*2, name='C')\n",
    "\n",
    "s = tvm.create_schedule(C.op)\n",
    "s[B].compute_inline()\n",
    "print(tvm.lower(s, [A, B, C], simple_mode=True))"
   ]
  },
  {
   "cell_type": "markdown",
   "metadata": {},
   "source": [
    "## compute_root\n",
    "\n",
    "`compute_root` can move computation of one stage to the root."
   ]
  },
  {
   "cell_type": "code",
   "execution_count": 21,
   "metadata": {},
   "outputs": [
    {
     "name": "stdout",
     "output_type": "stream",
     "text": [
      "produce B {\n",
      "  for (i, 0, m) {\n",
      "    B[i] = (A[i] + 1.000000f)\n",
      "  }\n",
      "}\n",
      "produce C {\n",
      "  for (i, 0, m) {\n",
      "    C[i] = (B[i]*2.000000f)\n",
      "  }\n",
      "}\n",
      "\n"
     ]
    }
   ],
   "source": [
    "A = tvm.placeholder((m,), name='A')\n",
    "B = tvm.compute((m,), lambda i: A[i]+1, name='B')\n",
    "C = tvm.compute((m,), lambda i: B[i]*2, name='C')\n",
    "\n",
    "s = tvm.create_schedule(C.op)\n",
    "s[B].compute_at(s[C], C.op.axis[0])\n",
    "s[B].compute_root()\n",
    "print(tvm.lower(s, [A, B, C], simple_mode=True))\n"
   ]
  }
 ],
 "metadata": {
  "kernelspec": {
   "display_name": "Python 3",
   "language": "python",
   "name": "python3"
  },
  "language_info": {
   "codemirror_mode": {
    "name": "ipython",
    "version": 3
   },
   "file_extension": ".py",
   "mimetype": "text/x-python",
   "name": "python",
   "nbconvert_exporter": "python",
   "pygments_lexer": "ipython3",
   "version": "3.6.5"
  }
 },
 "nbformat": 4,
 "nbformat_minor": 2
}
