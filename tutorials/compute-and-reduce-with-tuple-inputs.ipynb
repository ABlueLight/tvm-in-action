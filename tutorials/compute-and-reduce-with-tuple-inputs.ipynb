{
 "cells": [
  {
   "cell_type": "code",
   "execution_count": 1,
   "metadata": {},
   "outputs": [],
   "source": [
    "import tvm \n",
    "import numpy as np"
   ]
  },
  {
   "cell_type": "markdown",
   "metadata": {},
   "source": [
    "## Describe Batchwise Computation"
   ]
  },
  {
   "cell_type": "markdown",
   "metadata": {},
   "source": [
    "- For operators which have the same shape, we can put them together as the inputs of `tvm.compute`, if we wish they can be scheduled together in the next schedule procedure"
   ]
  },
  {
   "cell_type": "code",
   "execution_count": 2,
   "metadata": {},
   "outputs": [],
   "source": [
    "n = tvm.var(name=\"n\")\n",
    "m = tvm.var(name=\"m\")\n",
    "A0 = tvm.placeholder(shape=(m, n), name=\"A0\")\n",
    "A1 = tvm.placeholder(shape=(m, n), name=\"A1\")"
   ]
  },
  {
   "cell_type": "code",
   "execution_count": 3,
   "metadata": {},
   "outputs": [],
   "source": [
    "B0, B1 = tvm.compute(shape=(m, n), fcompute=lambda i, j: (A0[i, j] + 2, A1[i, j] * 3), \n",
    "                     name=\"B\")"
   ]
  },
  {
   "cell_type": "code",
   "execution_count": 6,
   "metadata": {},
   "outputs": [
    {
     "name": "stdout",
     "output_type": "stream",
     "text": [
      "produce B {\n",
      "  for (i, 0, m) {\n",
      "    for (j, 0, n) {\n",
      "      B.v0[((i*n) + j)] = (A0[((i*n) + j)] + 2.000000f)\n",
      "      B.v1[((i*n) + j)] = (A1[((i*n) + j)]*3.000000f)\n",
      "    }\n",
      "  }\n",
      "}\n",
      "\n"
     ]
    }
   ],
   "source": [
    "# The generated IR code would be:\n",
    "s = tvm.create_schedule(B0.op)\n",
    "print(tvm.lower(sch=s, args=[A0, A1, B0, B1], simple_mode=True))"
   ]
  },
  {
   "cell_type": "markdown",
   "metadata": {},
   "source": [
    "## Describe Reduction with Collaborative Inputs"
   ]
  },
  {
   "cell_type": "markdown",
   "metadata": {},
   "source": [
    "- Sometimes, we require multiple inputs to express some reduction operators, and the inputs will collaborate together, e.g. `argmax`\n",
    "- In the reduction procedure, `argmax` need to compare the value of operands, also need to keep the index of operand. This can be expressed with `comm_reducer` "
   ]
  },
  {
   "cell_type": "code",
   "execution_count": 7,
   "metadata": {},
   "outputs": [],
   "source": [
    "# x and y are the operands of reduction, both of them are a tuple of index and value\n",
    "def fcombine(x, y):\n",
    "    lhs = tvm.select(cond=(x[1] >= y[1]), t=x[0], f=y[0])\n",
    "    rhs = tvm.select(cond=(x[1] >= y[1]), t=x[1], f=y[1])\n",
    "    return lhs, rhs"
   ]
  },
  {
   "cell_type": "code",
   "execution_count": 8,
   "metadata": {},
   "outputs": [],
   "source": [
    "# our identity element also need to be a tuple, so `fidentity` accepts \n",
    "# two types as inputs\n",
    "def fidentity(t0, t1):\n",
    "    return tvm.const(value=-1, dtype=t0), tvm.min_value(dtype=t1)"
   ]
  },
  {
   "cell_type": "code",
   "execution_count": 9,
   "metadata": {},
   "outputs": [],
   "source": [
    "argmax = tvm.comm_reducer(fcombine, fidentity, name=\"argmax\")"
   ]
  },
  {
   "cell_type": "code",
   "execution_count": 10,
   "metadata": {},
   "outputs": [],
   "source": [
    "# describe the reduction computation\n",
    "m = tvm.var(\"m\")\n",
    "n = tvm.var(\"n\")\n",
    "idx = tvm.placeholder(shape=(m, n), name=\"idx\", dtype=\"int32\")\n",
    "val = tvm.placeholder(shape=(m, n), name=\"val\", dtype=\"int32\")\n",
    "k = tvm.reduce_axis(dom=(0, n), name=\"k\")\n",
    "T0, T1 = tvm.compute(shape=(m, ), fcompute=lambda i: argmax((idx[i, k], val[i, k]), axis=k),\n",
    "                     name=\"T\")\n"
   ]
  },
  {
   "cell_type": "code",
   "execution_count": 11,
   "metadata": {},
   "outputs": [
    {
     "name": "stdout",
     "output_type": "stream",
     "text": [
      "produce T {\n",
      "  for (i, 0, m) {\n",
      "    T.v0[i] = -1\n",
      "    T.v1[i] = -2147483648\n",
      "    for (k, 0, n) {\n",
      "      T.v0[i] = tvm_if_then_else((T.v1[i] < val[((i*n) + k)]), idx[((i*n) + k)], T.v0[i])\n",
      "      T.v1[i] = tvm_if_then_else((T.v1[i] < val[((i*n) + k)]), val[((i*n) + k)], T.v1[i])\n",
      "    }\n",
      "  }\n",
      "}\n",
      "\n"
     ]
    }
   ],
   "source": [
    "# The generated IR code would be:\n",
    "s = tvm.create_schedule(T0.op)\n",
    "print(tvm.lower(sch=s, args=[idx, val, T0, T1], simple_mode=True))"
   ]
  },
  {
   "cell_type": "markdown",
   "metadata": {},
   "source": [
    "## Schedule Operation with Tuple Inputs\n"
   ]
  },
  {
   "cell_type": "markdown",
   "metadata": {},
   "source": [
    "- Although you will get multiple outputs with one batch operation, but they can only be scheduled together in terms of operation."
   ]
  },
  {
   "cell_type": "code",
   "execution_count": 13,
   "metadata": {},
   "outputs": [],
   "source": [
    "n = tvm.var(\"n\")\n",
    "m = tvm.var(\"m\")\n",
    "A0 = tvm.placeholder((m, n), name='A0')\n",
    "B0, B1 = tvm.compute((m, n), lambda i, j: (A0[i, j] + 2, A0[i, j] * 3), name='B')\n",
    "A1 = tvm.placeholder((m, n), name='A1')\n",
    "C = tvm.compute((m, n), lambda i, j: A1[i, j] + B0[i, j], name='C')"
   ]
  },
  {
   "cell_type": "code",
   "execution_count": 14,
   "metadata": {},
   "outputs": [],
   "source": [
    "s = tvm.create_schedule(C.op)"
   ]
  },
  {
   "cell_type": "code",
   "execution_count": 16,
   "metadata": {},
   "outputs": [],
   "source": [
    "s[B0].compute_at(s[C], C.op.axis[0])"
   ]
  },
  {
   "cell_type": "code",
   "execution_count": 17,
   "metadata": {},
   "outputs": [
    {
     "name": "stdout",
     "output_type": "stream",
     "text": [
      "// attr [B.v0] storage_scope = \"global\"\n",
      "allocate B.v0[float32 * 1 * n]\n",
      "// attr [B.v1] storage_scope = \"global\"\n",
      "allocate B.v1[float32 * 1 * n]\n",
      "produce C {\n",
      "  for (i, 0, m) {\n",
      "    produce B {\n",
      "      for (j, 0, n) {\n",
      "        B.v0[j] = (A0[((i*n) + j)] + 2.000000f)\n",
      "        B.v1[j] = (A0[((i*n) + j)]*3.000000f)\n",
      "      }\n",
      "    }\n",
      "    for (j, 0, n) {\n",
      "      C[((i*n) + j)] = (A1[((i*n) + j)] + B.v0[j])\n",
      "    }\n",
      "  }\n",
      "}\n",
      "\n"
     ]
    }
   ],
   "source": [
    "print(tvm.lower(sch=s, args=[A0, A1, C], simple_mode=True))"
   ]
  }
 ],
 "metadata": {
  "kernelspec": {
   "display_name": "Python 3",
   "language": "python",
   "name": "python3"
  },
  "language_info": {
   "codemirror_mode": {
    "name": "ipython",
    "version": 3
   },
   "file_extension": ".py",
   "mimetype": "text/x-python",
   "name": "python",
   "nbconvert_exporter": "python",
   "pygments_lexer": "ipython3",
   "version": "3.6.5"
  }
 },
 "nbformat": 4,
 "nbformat_minor": 2
}
